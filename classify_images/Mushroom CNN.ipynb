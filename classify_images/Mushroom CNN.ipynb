{
 "cells": [
  {
   "cell_type": "code",
   "execution_count": null,
   "id": "c01e6645-4fe5-46f9-b5a7-5df1b68deccf",
   "metadata": {},
   "outputs": [],
   "source": [
    "import kagglehub\n",
    "import torch\n",
    "from PIL import Image\n",
    "from torchvision import transforms\n",
    "import numpy as np\n",
    "import os\n",
    "from IPython.display import display\n",
    "import matplotlib.pyplot as plt\n",
    "import torchvision.transforms.functional as F\n",
    "from torch.utils.data import Dataset, DataLoader\n",
    "import random\n",
    "from sklearn.model_selection import train_test_split\n",
    "\n",
    "from utils import load_images\n"
   ]
  },
  {
   "cell_type": "markdown",
   "id": "3213eb7b-b8b1-43fc-aece-b41baed8fa82",
   "metadata": {},
   "source": [
    "# Explore data"
   ]
  },
  {
   "cell_type": "code",
   "execution_count": null,
   "id": "7889e14d-3d62-4dbe-a9c2-37f39097532e",
   "metadata": {},
   "outputs": [],
   "source": [
    "# base_dir = kagglehub.dataset_download(\"maysee/mushrooms-classification-common-genuss-images\")\n",
    "# print(\"Path to dataset files:\", path)\n",
    "base_dir = \"/Users/keerthireddy/.cache/kagglehub/datasets/maysee/mushrooms-classification-common-genuss-images/versions/1/Mushrooms\"\n",
    "images = load_images(base_dir)"
   ]
  },
  {
   "cell_type": "code",
   "execution_count": null,
   "id": "028143da-68be-40d8-ae96-7dbd98076ad6",
   "metadata": {},
   "outputs": [],
   "source": [
    "# what's a good size for the images?\n",
    "sizes = [row[\"image\"].size for row in images]\n",
    "widths, heights = zip(*sizes)\n",
    "\n",
    "plt.figure(figsize=(10, 6))\n",
    "plt.scatter(widths, heights, alpha=0.5)\n",
    "plt.xlabel('Width (pixels)')\n",
    "plt.ylabel('Height (pixels)')\n",
    "plt.title('Image Dimensions Distribution')\n",
    "\n",
    "# Add a line for square images (y=x) for reference\n",
    "min_dim = min(min(widths), min(heights))\n",
    "max_dim = max(max(widths), max(heights))\n",
    "plt.plot([min_dim, max_dim], [min_dim, max_dim], 'r--', alpha=0.5, label='Square (1:1)')\n",
    "\n",
    "z = np.polyfit(widths, heights, 1)  # 1 for linear fit\n",
    "p = np.poly1d(z)\n",
    "plt.plot(widths, p(widths), 'g-', alpha=0.5, label=f'Best fit (y = {z[0]:.2f}x + {z[1]:.2f})')\n",
    "\n",
    "\n",
    "plt.legend()\n",
    "plt.grid(True, alpha=0.3)\n",
    "plt.tight_layout()\n",
    "plt.show()"
   ]
  },
  {
   "cell_type": "code",
   "execution_count": null,
   "id": "407d9f86-1523-4f75-bca4-0f446d37b0d9",
   "metadata": {},
   "outputs": [],
   "source": [
    "# compared with resize and center crop as square vs as rectangle (.6:1) as that's the most common shape\n",
    "# square seems to capture enough mushroom \n",
    "# transform some images and look through them to see if this is a reasonable option or if we lose too much info\n",
    "# transform = transforms.Compose([transforms.ToTensor(), transforms.Resize(150), transforms.CenterCrop((90, 150))])\n",
    "transform = transforms.Compose([transforms.ToTensor(), transforms.Resize(224), transforms.CenterCrop((224,224))])\n",
    "\n",
    "for data in images[200:200+15]:\n",
    "    display(data[\"image\"])\n",
    "    tensor = transform(data[\"image\"])\n",
    "    img = F.to_pil_image(tensor)\n",
    "    display(img)\n",
    "\n",
    "# square seems fine - we can adjust size up or down depending on how things go "
   ]
  },
  {
   "cell_type": "code",
   "execution_count": null,
   "id": "f8e54d5e-8c0e-4ccb-8e3b-a22abea8e8a8",
   "metadata": {},
   "outputs": [],
   "source": [
    "# how many images are RGB?\n",
    "sum([1 for data in images if data[\"image\"].mode == \"RGB\"])/len(images)\n",
    "# vast majority, so made RBG only it the default in load_images to drop others\n",
    "# note that now this will show up as 100%"
   ]
  },
  {
   "cell_type": "markdown",
   "id": "5cd3597c-2e01-492a-a2f7-0b22b23fafe1",
   "metadata": {},
   "source": [
    "# Make and Train the Model"
   ]
  },
  {
   "cell_type": "markdown",
   "id": "20b9dc37-bfc7-4671-9562-07d206d95b99",
   "metadata": {},
   "source": [
    "# Test Model & Explore Data"
   ]
  },
  {
   "cell_type": "code",
   "execution_count": null,
   "id": "5e2b67bf-0557-4715-bb14-ae4bb5ccc9da",
   "metadata": {},
   "outputs": [],
   "source": [
    "num_to_test = 1\n",
    "inputs, targets = next(iter(dataloader))[:num_to_test]\n",
    "self.model.eval()\n",
    "with torch.no_grad():\n",
    "    preds = self.model.forward(inputs)\n",
    "    loss = self.loss_fn(preds, targets)\n",
    "self.model.train()\n",
    "for i, data in enumerate(inputs):\n",
    "    img = F.to_pil_image(data)\n",
    "    display(img)\n",
    "    print(f\"Preds: {preds[i]}\")\n",
    "    print(f\"Target: {targets[i]}\")\n"
   ]
  }
 ],
 "metadata": {
  "kernelspec": {
   "display_name": "Python (mushroomvenv)",
   "language": "python",
   "name": ".mushroomvenv"
  },
  "language_info": {
   "codemirror_mode": {
    "name": "ipython",
    "version": 3
   },
   "file_extension": ".py",
   "mimetype": "text/x-python",
   "name": "python",
   "nbconvert_exporter": "python",
   "pygments_lexer": "ipython3",
   "version": "3.11.11"
  }
 },
 "nbformat": 4,
 "nbformat_minor": 5
}
